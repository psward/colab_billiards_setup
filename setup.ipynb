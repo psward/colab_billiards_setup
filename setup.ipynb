{
  "nbformat": 4,
  "nbformat_minor": 0,
  "metadata": {
    "colab": {
      "name": "setup.ipynb",
      "version": "0.3.2",
      "provenance": [],
      "collapsed_sections": []
    },
    "kernelspec": {
      "name": "python3",
      "display_name": "Python 3"
    }
  },
  "cells": [
    {
      "metadata": {
        "id": "5rys3xAAjj4f",
        "colab_type": "code",
        "colab": {}
      },
      "cell_type": "code",
      "source": [
        "def billiards_setup():\n",
        "  if clone_repo:\n",
        "      repo_name = 'billiard_frontiers'\n",
        "      user_name = 'drscook'\n",
        "      repo_url = f\"https://github.com/{user_name}/{repo_name}.git\"\n",
        "      cmd = f\"PATH=$PATH:/bin; PATH=$PATH:/usr/bin; cd {repo_path};\"  \n",
        "      rtn = os.system(cmd + f\"git pull\")\n",
        "      if rtn == 0:\n",
        "          print(f\"Repo {repo_name} successfully updated\")\n",
        "      else:\n",
        "          print(f\"Could not update repo {repo_name}.  Trying to clone.\")\n",
        "          os.makedirs(repo_path, exist_ok=True)\n",
        "          rtn = os.system(cmd + f\"git clone {repo_url} {repo_path}\")\n",
        "          if rtn == 0:\n",
        "              print(f\"Repo {repo_name} successfully cloned\")\n",
        "          else:\n",
        "              print(f\"Could neither update nor clone {repo_name}.  Attempting to proceed anyway.  Fingers crosses.\")\n",
        "\n",
        "\n",
        "\n",
        "  ## Required - loads essentials\n",
        "  os.chdir(root_path)\n",
        "  # Import external packages, display preferences, utilities, billiard defintions\n",
        "  files = [['setup', ['imports_preferences_utilities', 'setup_pkgs']]\n",
        "          ,['definitions', ['constants_global_defaults', 'meshes'\n",
        "                            ,'no_slip_functions', 'pw_collision_laws', 'pp_collision_laws'\n",
        "                           ,'walls', 'chambers', 'particles']]\n",
        "          ,['dynamics', ['evolution', 'solver_cpu', 'gpu', 'solver_gpu']]\n",
        "          ,['analysis', ['analyses', 'animate']]\n",
        "       ]\n",
        "  for x in files:\n",
        "      subdir = x[0]\n",
        "      for fn in x[1]:\n",
        "          y = subdir + '/' + fn\n",
        "          z = repo_path + y\n",
        "          %run -i \"{z}\"\n",
        "          print(f\"Successfully imported {y}.py\")\n",
        "\n",
        "  if setup_for_parallel_mode: \n",
        "      setup_gpu()  # if you plan to run in parallel\n",
        "\n",
        "\n",
        "  if setup_for_animation_file:\n",
        "      setup_ffmpeg()\n"
      ],
      "execution_count": 0,
      "outputs": []
    }
  ]
}
